{
  "cells": [
    {
      "cell_type": "markdown",
      "source": [
        "##**Stack Questions**"
      ],
      "metadata": {
        "id": "cP32wAV3Yi-4"
      }
    },
    {
      "cell_type": "markdown",
      "source": [
        "## Question 1: Write a function to sort a stack."
      ],
      "metadata": {
        "id": "KqdNjm1oY_ss"
      }
    },
    {
      "cell_type": "code",
      "source": [
        "def sort_stack(stack):\n",
        "  stack.sort()\n",
        "  return stack\n",
        "\n",
        "stack = [34, 3, 31, 98, 92, 23]\n",
        "print(sort_stack(stack))"
      ],
      "metadata": {
        "id": "mb9K46p3Ym0N",
        "colab": {
          "base_uri": "https://localhost:8080/"
        },
        "outputId": "340a03be-1972-43d3-f798-60d021a1bdb6"
      },
      "execution_count": null,
      "outputs": [
        {
          "output_type": "stream",
          "name": "stdout",
          "text": [
            "[3, 23, 31, 34, 92, 98]\n"
          ]
        }
      ]
    },
    {
      "cell_type": "markdown",
      "metadata": {
        "id": "jFxb6ss_Whwl"
      },
      "source": [
        "## Question 2: Depict the following image as a list.\n",
        "\n",
        "<img src=\"https://miro.medium.com/max/1050/1*XifPIMxbamGKhz5UAEdz2w.png\">\n",
        "\n",
        "#### Queue\n",
        "1. Add the number 9 to the list.\n",
        "2. Remove the first number (7) from the list.\n",
        "\n",
        "#### Stack\n",
        "3. Add the number 4 to the same list.\n",
        "4. Remove the last number added (4) from the list."
      ]
    },
    {
      "cell_type": "code",
      "execution_count": null,
      "metadata": {
        "id": "XOm7YLTEWhwm",
        "colab": {
          "base_uri": "https://localhost:8080/"
        },
        "outputId": "2ec99c3c-e027-4ae5-dd0a-fe6662c613b9"
      },
      "outputs": [
        {
          "output_type": "stream",
          "name": "stdout",
          "text": [
            "Queue:\n",
            "[3, 1, 6, 8, 9]\n",
            "Stack:\n",
            "[7, 3, 1, 6, 8]\n"
          ]
        }
      ],
      "source": [
        "print(\"Queue:\")\n",
        "image = [7, 3, 1, 6, 8]\n",
        "image.append(9)\n",
        "image.pop(0)\n",
        "print(image)\n",
        "print(\"Stack:\")\n",
        "image = [7, 3, 1, 6, 8]\n",
        "image.append(4)\n",
        "image.pop()\n",
        "print(image)"
      ]
    },
    {
      "cell_type": "markdown",
      "metadata": {
        "id": "tQ3kgHVtWhwn"
      },
      "source": [
        "#### Question 3: Nodes\n",
        "\n",
        "<img src=\"https://encrypted-tbn0.gstatic.com/images?q=tbn:ANd9GcQW8-twGk0hCILE-muHBnG93hZJh2Qvgs7pVA&s\">\n",
        "\n",
        "1. Use a data structure of your choice to denote the different nodes.\n",
        "\n",
        "2. Create a function that sums all of the \"children\". Test with the node 10 (Expected answer is 37).\n"
      ]
    },
    {
      "cell_type": "code",
      "execution_count": 1,
      "metadata": {
        "id": "UU0rjzjXWhwn",
        "colab": {
          "base_uri": "https://localhost:8080/",
          "height": 394
        },
        "outputId": "546779e3-0b43-4c08-b413-8466ed048b72"
      },
      "outputs": [
        {
          "output_type": "stream",
          "name": "stdout",
          "text": [
            "8\n",
            "3\n",
            "10\n",
            "6\n",
            "14\n"
          ]
        },
        {
          "output_type": "error",
          "ename": "TypeError",
          "evalue": "'int' object is not iterable",
          "traceback": [
            "\u001b[0;31m---------------------------------------------------------------------------\u001b[0m",
            "\u001b[0;31mTypeError\u001b[0m                                 Traceback (most recent call last)",
            "\u001b[0;32m<ipython-input-1-dd2e7603c3d3>\u001b[0m in \u001b[0;36m<cell line: 0>\u001b[0;34m()\u001b[0m\n\u001b[1;32m     18\u001b[0m   \u001b[0;32mreturn\u001b[0m \u001b[0msum\u001b[0m\u001b[0;34m\u001b[0m\u001b[0;34m\u001b[0m\u001b[0m\n\u001b[1;32m     19\u001b[0m \u001b[0;34m\u001b[0m\u001b[0m\n\u001b[0;32m---> 20\u001b[0;31m \u001b[0mprint\u001b[0m\u001b[0;34m(\u001b[0m\u001b[0msum_children\u001b[0m\u001b[0;34m(\u001b[0m\u001b[0;36m10\u001b[0m\u001b[0;34m)\u001b[0m\u001b[0;34m)\u001b[0m\u001b[0;34m\u001b[0m\u001b[0;34m\u001b[0m\u001b[0m\n\u001b[0m",
            "\u001b[0;32m<ipython-input-1-dd2e7603c3d3>\u001b[0m in \u001b[0;36msum_children\u001b[0;34m(parent)\u001b[0m\n\u001b[1;32m     12\u001b[0m \u001b[0;32mdef\u001b[0m \u001b[0msum_children\u001b[0m\u001b[0;34m(\u001b[0m\u001b[0mparent\u001b[0m\u001b[0;34m)\u001b[0m\u001b[0;34m:\u001b[0m\u001b[0;34m\u001b[0m\u001b[0;34m\u001b[0m\u001b[0m\n\u001b[1;32m     13\u001b[0m   \u001b[0msum\u001b[0m \u001b[0;34m=\u001b[0m \u001b[0;36m0\u001b[0m\u001b[0;34m\u001b[0m\u001b[0;34m\u001b[0m\u001b[0m\n\u001b[0;32m---> 14\u001b[0;31m   \u001b[0;32mfor\u001b[0m \u001b[0mi\u001b[0m \u001b[0;32min\u001b[0m \u001b[0mparent\u001b[0m\u001b[0;34m:\u001b[0m\u001b[0;34m\u001b[0m\u001b[0;34m\u001b[0m\u001b[0m\n\u001b[0m\u001b[1;32m     15\u001b[0m       \u001b[0;32mfor\u001b[0m \u001b[0mi\u001b[0m \u001b[0;32min\u001b[0m \u001b[0mnodes\u001b[0m\u001b[0;34m.\u001b[0m\u001b[0mget\u001b[0m\u001b[0;34m(\u001b[0m\u001b[0mitem\u001b[0m\u001b[0;34m)\u001b[0m\u001b[0;34m:\u001b[0m\u001b[0;34m\u001b[0m\u001b[0;34m\u001b[0m\u001b[0m\n\u001b[1;32m     16\u001b[0m         \u001b[0msum\u001b[0m \u001b[0;34m+=\u001b[0m \u001b[0mnodes\u001b[0m\u001b[0;34m.\u001b[0m\u001b[0mget\u001b[0m\u001b[0;34m(\u001b[0m\u001b[0mitem\u001b[0m\u001b[0;34m)\u001b[0m\u001b[0;34m\u001b[0m\u001b[0;34m\u001b[0m\u001b[0m\n",
            "\u001b[0;31mTypeError\u001b[0m: 'int' object is not iterable"
          ]
        }
      ],
      "source": [
        "nodes = {8:[3,10],\n",
        "         3:[1,6],\n",
        "         10:[14],\n",
        "         6:[4,7],\n",
        "         14:[13]}\n",
        "nodes.get(6)\n",
        "nodes.get(6) == None\n",
        "\n",
        "def sum_children(parent):\n",
        "  sum = 0\n",
        "  target = [parent]\n",
        "  while target != None:\n",
        "      for i in target:\n",
        "        sum += target[i]\n",
        "  return sum\n",
        "\n",
        "print(sum_children(10))"
      ]
    }
  ],
  "metadata": {
    "hide_input": false,
    "kernelspec": {
      "display_name": "Python 3",
      "language": "python",
      "name": "python3"
    },
    "language_info": {
      "codemirror_mode": {
        "name": "ipython",
        "version": 3
      },
      "file_extension": ".py",
      "mimetype": "text/x-python",
      "name": "python",
      "nbconvert_exporter": "python",
      "pygments_lexer": "ipython3",
      "version": "3.8.3"
    },
    "toc": {
      "base_numbering": 1,
      "nav_menu": {},
      "number_sections": true,
      "sideBar": true,
      "skip_h1_title": false,
      "title_cell": "Table of Contents",
      "title_sidebar": "Contents",
      "toc_cell": false,
      "toc_position": {},
      "toc_section_display": true,
      "toc_window_display": false
    },
    "colab": {
      "provenance": []
    }
  },
  "nbformat": 4,
  "nbformat_minor": 0
}