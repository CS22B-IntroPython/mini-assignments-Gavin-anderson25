{
  "cells": [
    {
      "cell_type": "markdown",
      "source": [
        "# Data comprehension\n",
        "Practice working with list comprehension, dictionary comprehension and set comprehension following Lec 11"
      ],
      "metadata": {
        "id": "-ZHVRHMui18N"
      }
    },
    {
      "cell_type": "markdown",
      "metadata": {
        "id": "INt5QZg_yTgG"
      },
      "source": [
        "**Ques 1:**\n",
        "You are given the list below, make column 0(the words) the key for a dictionary with the values as the rest of the list.\n",
        "\n",
        "```\n",
        "list_pos = [\n",
        "    ['drawer', 141, 2, 3],\n",
        "    ['hedge', 213, 1, 6],\n",
        "    ['pantry', 328, 1, 7]\n",
        "]\n",
        "\n",
        "list_pos\n",
        "\n",
        "# You output should be:\n",
        "\n",
        "{'drawer': [141, 2, 3], 'hedge': [213, 1, 6], 'pantry': [328, 1, 7]}\n",
        "\n",
        "```\n",
        "\n",
        "Requirement: Do both traditional loops and list comprehensions.\n"
      ]
    },
    {
      "cell_type": "code",
      "execution_count": 3,
      "metadata": {
        "colab": {
          "base_uri": "https://localhost:8080/"
        },
        "id": "dX7uE78eyTgD",
        "outputId": "9d959c02-f0d1-4dff-9df7-66c9dc5f8791"
      },
      "outputs": [
        {
          "output_type": "execute_result",
          "data": {
            "text/plain": [
              "[['drawer', 141, 2, 3], ['hedge', 213, 1, 6], ['pantry', 328, 1, 7]]"
            ]
          },
          "metadata": {},
          "execution_count": 3
        }
      ],
      "source": [
        "#postion of a word in a dictionary\n",
        "list_pos = [\n",
        "    ['drawer', 141, 2, 3],\n",
        "    ['hedge', 213, 1, 6],\n",
        "    ['pantry', 328, 1, 7]\n",
        "]\n",
        "\n",
        "list_pos"
      ]
    },
    {
      "cell_type": "code",
      "source": [
        "tradloop = {}\n",
        "for i in list_pos:\n",
        "  tradloop[i[0]] = [i[1], i[2], i[3]]\n",
        "print(tradloop)\n",
        "\n",
        "listloop = {i[0]:[i[1], i[2], i[3]] for i in list_pos}\n",
        "print(listloop)"
      ],
      "metadata": {
        "id": "s2cCUs6PWCtf",
        "colab": {
          "base_uri": "https://localhost:8080/"
        },
        "outputId": "c8ec137e-bd86-4926-d7d9-81a67815914a"
      },
      "execution_count": 4,
      "outputs": [
        {
          "output_type": "stream",
          "name": "stdout",
          "text": [
            "{'drawer': [141, 2, 3], 'hedge': [213, 1, 6], 'pantry': [328, 1, 7]}\n",
            "{'drawer': [141, 2, 3], 'hedge': [213, 1, 6], 'pantry': [328, 1, 7]}\n"
          ]
        }
      ]
    },
    {
      "cell_type": "markdown",
      "source": [
        "**Ques 2:** You are given the dictionary below, combine the keys(the words) and the values inside the dictionary and create a list.\n",
        "\n",
        "You output should be:\n",
        "\n",
        "\n",
        "\n",
        "```\n",
        "dictionary_pos = {\n",
        "    'drawer': [141, 2, 3],\n",
        "    'hedge': [213, 1, 6],\n",
        "    'pantry': [328, 1, 7]\n",
        "}\n",
        "\n",
        "dictionary_pos\n",
        "\n",
        "# Your output should:\n",
        "\n",
        "[['drawer', 141, 2, 3], ['hedge', 213, 1, 6], ['pantry', 328, 1, 7]]\n",
        "```\n",
        "\n",
        "Requirement: Do both traditional loops and list comprehensions."
      ],
      "metadata": {
        "id": "kPV7FgpUHdt-"
      }
    },
    {
      "cell_type": "code",
      "execution_count": 5,
      "metadata": {
        "id": "VL-scbyryTgJ",
        "colab": {
          "base_uri": "https://localhost:8080/"
        },
        "outputId": "3746e85e-ea96-4fa8-f5a9-95ea7f1b3824"
      },
      "outputs": [
        {
          "output_type": "execute_result",
          "data": {
            "text/plain": [
              "{'drawer': [141, 2, 3], 'hedge': [213, 1, 6], 'pantry': [328, 1, 7]}"
            ]
          },
          "metadata": {},
          "execution_count": 5
        }
      ],
      "source": [
        "#Your turn:\n",
        "#postion of a word in a dictionary\n",
        "dictionary_pos = {\n",
        "    'drawer': [141, 2, 3],\n",
        "    'hedge': [213, 1, 6],\n",
        "    'pantry': [328, 1, 7]\n",
        "}\n",
        "\n",
        "dictionary_pos"
      ]
    },
    {
      "cell_type": "code",
      "execution_count": 6,
      "metadata": {
        "id": "KfZIsa9DyTgK",
        "colab": {
          "base_uri": "https://localhost:8080/"
        },
        "outputId": "83118296-7013-4b79-ecdf-6e31eb3314ea"
      },
      "outputs": [
        {
          "output_type": "stream",
          "name": "stdout",
          "text": [
            "[['drawer', [141, 2, 3]], ['hedge', [213, 1, 6]], ['pantry', [328, 1, 7]]]\n",
            "[['drawer', [141, 2, 3]], ['hedge', [213, 1, 6]], ['pantry', [328, 1, 7]]]\n"
          ]
        }
      ],
      "source": [
        "# Solution\n",
        "tradlist = []\n",
        "for k in dictionary_pos:\n",
        "  tradlist.append([k, dictionary_pos[k]])\n",
        "print(tradlist)\n",
        "\n",
        "dictlist = [[k, dictionary_pos[k]] for k in dictionary_pos]\n",
        "print(dictlist)"
      ]
    },
    {
      "cell_type": "markdown",
      "source": [
        "**Ques 3:** Use list comprehension to rewrite the code, it can be done in one line (and you do not even need an if statement)\n",
        "\n",
        "```\n",
        "result = []\n",
        "myList = list(range(0, 13))\n",
        "for i in range(6, len(myList)):\n",
        "    if i%2 == 0:\n",
        "        result.append(i)\n",
        "\n",
        "result\n",
        "```\n",
        "\n"
      ],
      "metadata": {
        "id": "cvER6YXv4Id5"
      }
    },
    {
      "cell_type": "code",
      "execution_count": 7,
      "metadata": {
        "id": "HGOnba_myTgM",
        "colab": {
          "base_uri": "https://localhost:8080/"
        },
        "outputId": "566089a4-431d-4db7-da82-5f9da100708d"
      },
      "outputs": [
        {
          "output_type": "stream",
          "name": "stdout",
          "text": [
            "[6, 8, 10, 12]\n"
          ]
        }
      ],
      "source": [
        "#Your Code:\n",
        "result = [i for i in range(6,len(range(0,13))) if i%2==0]\n",
        "print(result)"
      ]
    },
    {
      "cell_type": "markdown",
      "source": [
        "**Ques 4a:** Use the following code to perform the tasks given below:\n",
        "\n",
        "\n",
        "\n",
        "```\n",
        "set_a = {1, 2, 3, \"a\", \"b\", \"c\"}\n",
        "set_b = {2, 3, 4, \"c\", \"d\"}\n",
        "set_c = {2, 3, 'd', \"t\", \"a\"}\n",
        "```\n",
        "\n"
      ],
      "metadata": {
        "id": "H7IAbiwH4i-D"
      }
    },
    {
      "cell_type": "code",
      "execution_count": 9,
      "metadata": {
        "id": "CvrNavspyTgN"
      },
      "outputs": [],
      "source": [
        "# The follow code is supposed to return the different elements in both sets of union_ab and set_a but not both of them.\n",
        "set_a = {1, 2, 3, \"a\", \"b\", \"c\"}\n",
        "set_b = {2, 3, 4, \"c\", \"d\"}\n",
        "set_c = {2, 3, 'd', \"t\", \"a\"}\n",
        "\n",
        "elements = (set_a|set_b)-set_b"
      ]
    },
    {
      "cell_type": "code",
      "source": [
        "# Elements that occur just in set c and not in set a\n",
        "diff = set_c - set_a\n",
        "print(diff)"
      ],
      "metadata": {
        "id": "iL4GrbZknT_y",
        "colab": {
          "base_uri": "https://localhost:8080/"
        },
        "outputId": "c066fd31-3e86-476d-bc88-7299297f3eba"
      },
      "execution_count": 10,
      "outputs": [
        {
          "output_type": "stream",
          "name": "stdout",
          "text": [
            "{'t', 'd'}\n"
          ]
        }
      ]
    },
    {
      "cell_type": "markdown",
      "source": [
        "**Ques 4b:** This piece of code will work the same as which of the following options:\n",
        "\n",
        "\n",
        "```\n",
        "difference_A = []\n",
        "for a in set_c:\n",
        "  if(not(a in set_a)):\n",
        "    difference_A.append(a)\n",
        "\n",
        "print(difference_A)\n",
        "```\n",
        "\n"
      ],
      "metadata": {
        "id": "E7LmZQwT5Mhr"
      }
    },
    {
      "cell_type": "code",
      "execution_count": null,
      "metadata": {
        "id": "FvUCzqZuyTgN"
      },
      "outputs": [],
      "source": [
        "#Rewrite the code:\n",
        "\n",
        "#A) difference = union_ab | set_a\n",
        "\n",
        "#B) difference = set_a - union_ab\n",
        "\n",
        "#C) difference = union_ab ^ set_a\n"
      ]
    },
    {
      "cell_type": "markdown",
      "metadata": {
        "id": "i1TTuNdgyTgO"
      },
      "source": [
        "**Ques 5:** A procedural function called GC_content(data).\n",
        "Find the GC percentage for each of the elements in dna_list.\n",
        "data is the list, dna_list."
      ]
    },
    {
      "cell_type": "code",
      "execution_count": 13,
      "metadata": {
        "id": "awvBHjfFyTgO"
      },
      "outputs": [],
      "source": [
        "dna_list = ['GAAGTC', 'CGATATGC', 'GTCA', 'CGGACAGTAG']\n",
        "def GC_content(data):\n",
        "  count = []\n",
        "  for i in data:\n",
        "    count.append(i.count(\"G\") + i.count(\"C\"))\n",
        "  return count"
      ]
    },
    {
      "cell_type": "code",
      "execution_count": 14,
      "metadata": {
        "id": "NL90n2TOyTgO",
        "colab": {
          "base_uri": "https://localhost:8080/"
        },
        "outputId": "96c014bc-170f-4c58-9b62-f13b83fa8ae3"
      },
      "outputs": [
        {
          "output_type": "execute_result",
          "data": {
            "text/plain": [
              "[3, 4, 2, 6]"
            ]
          },
          "metadata": {},
          "execution_count": 14
        }
      ],
      "source": [
        "#def GC_content(data):\n",
        "    #Your Code:\n",
        "\n",
        "GC_content(dna_list)"
      ]
    }
  ],
  "metadata": {
    "hide_input": false,
    "kernelspec": {
      "display_name": "Python 3",
      "language": "python",
      "name": "python3"
    },
    "language_info": {
      "codemirror_mode": {
        "name": "ipython",
        "version": 3
      },
      "file_extension": ".py",
      "mimetype": "text/x-python",
      "name": "python",
      "nbconvert_exporter": "python",
      "pygments_lexer": "ipython3",
      "version": "3.8.3"
    },
    "toc": {
      "base_numbering": 1,
      "nav_menu": {},
      "number_sections": true,
      "sideBar": true,
      "skip_h1_title": false,
      "title_cell": "Table of Contents",
      "title_sidebar": "Contents",
      "toc_cell": false,
      "toc_position": {},
      "toc_section_display": true,
      "toc_window_display": false
    },
    "colab": {
      "provenance": []
    }
  },
  "nbformat": 4,
  "nbformat_minor": 0
}